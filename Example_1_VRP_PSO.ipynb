{
  "nbformat": 4,
  "nbformat_minor": 0,
  "metadata": {
    "colab": {
      "provenance": []
    },
    "kernelspec": {
      "name": "python3",
      "display_name": "Python 3"
    },
    "language_info": {
      "name": "python"
    }
  },
  "cells": [
    {
      "cell_type": "markdown",
      "source": [
        "Step 1: Random Problem Setup"
      ],
      "metadata": {
        "id": "qNrqbCq50XBC"
      }
    },
    {
      "cell_type": "code",
      "source": [
        "import numpy as np\n",
        "import matplotlib.pyplot as plt\n",
        "import random\n",
        "\n",
        "customers = [\n",
        "    {\"id\": 0, \"x\": 50, \"y\": 50},  # Depot\n",
        "    {\"id\": 1, \"x\": 20, \"y\": 30},\n",
        "    {\"id\": 2, \"x\": 60, \"y\": 20},\n",
        "    {\"id\": 3, \"x\": 80, \"y\": 70},\n",
        "    {\"id\": 4, \"x\": 30, \"y\": 90},\n",
        "    {\"id\": 5, \"x\": 70, \"y\": 40},\n",
        "]"
      ],
      "metadata": {
        "id": "bWjRyEBu0TRL"
      },
      "execution_count": 2,
      "outputs": []
    },
    {
      "cell_type": "markdown",
      "source": [
        "Step 2: Distance Matrix"
      ],
      "metadata": {
        "id": "d2qnK16i1v-h"
      }
    },
    {
      "cell_type": "code",
      "source": [
        "def euclidean_distance(a, b):\n",
        "    return np.sqrt((a[\"x\"] - b[\"x\"])**2 + (a[\"y\"] - b[\"y\"])**2)\n",
        "\n",
        "num_customers = len(customers)\n",
        "distance_matrix = np.zeros((num_customers, num_customers))\n",
        "\n",
        "for i in range(num_customers):\n",
        "    for j in range(num_customers):\n",
        "        distance_matrix[i][j] = euclidean_distance(customers[i], customers[j])"
      ],
      "metadata": {
        "id": "q7QNL_020VCi"
      },
      "execution_count": 3,
      "outputs": []
    },
    {
      "cell_type": "markdown",
      "source": [
        "Step 3: PSO Logic"
      ],
      "metadata": {
        "id": "9EGLE4Kn17h6"
      }
    },
    {
      "cell_type": "code",
      "source": [
        "num_particles = 10\n",
        "num_iterations = 100\n",
        "\n",
        "# Each particle is a route (permutation of customer IDs excluding depot 0)\n",
        "swarm = [random.sample(range(1, num_customers), num_customers - 1) for _ in range(num_particles)]"
      ],
      "metadata": {
        "id": "Rgb2yiEO1tna"
      },
      "execution_count": 4,
      "outputs": []
    },
    {
      "cell_type": "markdown",
      "source": [
        "Step 4: Fitness Function"
      ],
      "metadata": {
        "id": "EvtyHexC2CGp"
      }
    },
    {
      "cell_type": "code",
      "source": [
        "def calculate_total_distance(route, distance_matrix):\n",
        "    total_distance = 0\n",
        "    current = 0  # Start at depot (0)\n",
        "    for next_customer in route:\n",
        "        total_distance += distance_matrix[current][next_customer]\n",
        "        current = next_customer\n",
        "    total_distance += distance_matrix[current][0]  # Return to depot\n",
        "    return total_distance\n"
      ],
      "metadata": {
        "id": "-iSIAq2U1_Ty"
      },
      "execution_count": 5,
      "outputs": []
    },
    {
      "cell_type": "markdown",
      "source": [
        "Step 5: Find the best route"
      ],
      "metadata": {
        "id": "olYdil9E3ZtR"
      }
    },
    {
      "cell_type": "code",
      "source": [
        "# === Initialize Best Scores ===\n",
        "fitness_values = [calculate_total_distance(p, distance_matrix) for p in swarm]\n",
        "personal_best_positions = [p.copy() for p in swarm]\n",
        "personal_best_scores = fitness_values.copy()\n",
        "\n",
        "global_best_index = np.argmin(personal_best_scores)\n",
        "global_best_position = personal_best_positions[global_best_index].copy()\n",
        "global_best_score = personal_best_scores[global_best_index]"
      ],
      "metadata": {
        "id": "t0WJqAl92GAh"
      },
      "execution_count": 6,
      "outputs": []
    },
    {
      "cell_type": "code",
      "source": [
        "# === Run PSO Iterations ===\n",
        "for iteration in range(num_iterations):\n",
        "    for i in range(num_particles):\n",
        "        # Mutation: swap two cities in route\n",
        "        new_particle = personal_best_positions[i].copy()\n",
        "        a, b = random.sample(range(len(new_particle)), 2)\n",
        "        new_particle[a], new_particle[b] = new_particle[b], new_particle[a]\n",
        "\n",
        "        new_fitness = calculate_total_distance(new_particle, distance_matrix)\n",
        "\n",
        "        if new_fitness < personal_best_scores[i]:\n",
        "            personal_best_scores[i] = new_fitness\n",
        "            personal_best_positions[i] = new_particle.copy()\n",
        "\n",
        "    # Update global best\n",
        "    best_index = np.argmin(personal_best_scores)\n",
        "    if personal_best_scores[best_index] < global_best_score:\n",
        "        global_best_score = personal_best_scores[best_index]\n",
        "        global_best_position = personal_best_positions[best_index].copy()\n",
        "\n",
        "    print(f\"Iteration {iteration+1}: Best Distance = {global_best_score:.2f}\")"
      ],
      "metadata": {
        "colab": {
          "base_uri": "https://localhost:8080/"
        },
        "id": "twJR1acC3enC",
        "outputId": "ea22db2e-63ae-400f-99b9-14f0189a66b4"
      },
      "execution_count": 7,
      "outputs": [
        {
          "output_type": "stream",
          "name": "stdout",
          "text": [
            "Iteration 1: Best Distance = 236.69\n",
            "Iteration 2: Best Distance = 236.69\n",
            "Iteration 3: Best Distance = 236.69\n",
            "Iteration 4: Best Distance = 236.69\n",
            "Iteration 5: Best Distance = 236.69\n",
            "Iteration 6: Best Distance = 236.69\n",
            "Iteration 7: Best Distance = 236.69\n",
            "Iteration 8: Best Distance = 236.34\n",
            "Iteration 9: Best Distance = 236.34\n",
            "Iteration 10: Best Distance = 236.34\n",
            "Iteration 11: Best Distance = 229.84\n",
            "Iteration 12: Best Distance = 229.84\n",
            "Iteration 13: Best Distance = 229.84\n",
            "Iteration 14: Best Distance = 229.84\n",
            "Iteration 15: Best Distance = 229.84\n",
            "Iteration 16: Best Distance = 229.84\n",
            "Iteration 17: Best Distance = 229.84\n",
            "Iteration 18: Best Distance = 229.84\n",
            "Iteration 19: Best Distance = 229.84\n",
            "Iteration 20: Best Distance = 229.84\n",
            "Iteration 21: Best Distance = 229.84\n",
            "Iteration 22: Best Distance = 229.84\n",
            "Iteration 23: Best Distance = 229.84\n",
            "Iteration 24: Best Distance = 229.84\n",
            "Iteration 25: Best Distance = 229.84\n",
            "Iteration 26: Best Distance = 229.84\n",
            "Iteration 27: Best Distance = 229.84\n",
            "Iteration 28: Best Distance = 229.84\n",
            "Iteration 29: Best Distance = 229.84\n",
            "Iteration 30: Best Distance = 229.84\n",
            "Iteration 31: Best Distance = 229.84\n",
            "Iteration 32: Best Distance = 229.84\n",
            "Iteration 33: Best Distance = 229.84\n",
            "Iteration 34: Best Distance = 229.84\n",
            "Iteration 35: Best Distance = 229.84\n",
            "Iteration 36: Best Distance = 229.84\n",
            "Iteration 37: Best Distance = 229.84\n",
            "Iteration 38: Best Distance = 229.84\n",
            "Iteration 39: Best Distance = 229.84\n",
            "Iteration 40: Best Distance = 229.84\n",
            "Iteration 41: Best Distance = 229.84\n",
            "Iteration 42: Best Distance = 229.84\n",
            "Iteration 43: Best Distance = 229.84\n",
            "Iteration 44: Best Distance = 229.84\n",
            "Iteration 45: Best Distance = 229.84\n",
            "Iteration 46: Best Distance = 229.84\n",
            "Iteration 47: Best Distance = 229.84\n",
            "Iteration 48: Best Distance = 229.84\n",
            "Iteration 49: Best Distance = 229.84\n",
            "Iteration 50: Best Distance = 229.84\n",
            "Iteration 51: Best Distance = 229.84\n",
            "Iteration 52: Best Distance = 229.84\n",
            "Iteration 53: Best Distance = 229.84\n",
            "Iteration 54: Best Distance = 229.84\n",
            "Iteration 55: Best Distance = 229.84\n",
            "Iteration 56: Best Distance = 229.84\n",
            "Iteration 57: Best Distance = 229.84\n",
            "Iteration 58: Best Distance = 229.84\n",
            "Iteration 59: Best Distance = 229.84\n",
            "Iteration 60: Best Distance = 229.84\n",
            "Iteration 61: Best Distance = 229.84\n",
            "Iteration 62: Best Distance = 229.84\n",
            "Iteration 63: Best Distance = 229.84\n",
            "Iteration 64: Best Distance = 229.84\n",
            "Iteration 65: Best Distance = 229.84\n",
            "Iteration 66: Best Distance = 229.84\n",
            "Iteration 67: Best Distance = 229.84\n",
            "Iteration 68: Best Distance = 229.84\n",
            "Iteration 69: Best Distance = 229.84\n",
            "Iteration 70: Best Distance = 229.84\n",
            "Iteration 71: Best Distance = 229.84\n",
            "Iteration 72: Best Distance = 229.84\n",
            "Iteration 73: Best Distance = 229.84\n",
            "Iteration 74: Best Distance = 229.84\n",
            "Iteration 75: Best Distance = 229.84\n",
            "Iteration 76: Best Distance = 229.84\n",
            "Iteration 77: Best Distance = 229.84\n",
            "Iteration 78: Best Distance = 229.84\n",
            "Iteration 79: Best Distance = 229.84\n",
            "Iteration 80: Best Distance = 229.84\n",
            "Iteration 81: Best Distance = 229.84\n",
            "Iteration 82: Best Distance = 229.84\n",
            "Iteration 83: Best Distance = 229.84\n",
            "Iteration 84: Best Distance = 229.84\n",
            "Iteration 85: Best Distance = 229.84\n",
            "Iteration 86: Best Distance = 229.84\n",
            "Iteration 87: Best Distance = 229.84\n",
            "Iteration 88: Best Distance = 229.84\n",
            "Iteration 89: Best Distance = 229.84\n",
            "Iteration 90: Best Distance = 229.84\n",
            "Iteration 91: Best Distance = 229.84\n",
            "Iteration 92: Best Distance = 229.84\n",
            "Iteration 93: Best Distance = 229.84\n",
            "Iteration 94: Best Distance = 229.84\n",
            "Iteration 95: Best Distance = 229.84\n",
            "Iteration 96: Best Distance = 229.84\n",
            "Iteration 97: Best Distance = 229.84\n",
            "Iteration 98: Best Distance = 229.84\n",
            "Iteration 99: Best Distance = 229.84\n",
            "Iteration 100: Best Distance = 229.84\n"
          ]
        }
      ]
    },
    {
      "cell_type": "markdown",
      "source": [
        "Step 6: Final Result"
      ],
      "metadata": {
        "id": "G-sdaJVA3tLg"
      }
    },
    {
      "cell_type": "code",
      "source": [
        "print(\"\\nBest Route Found (excluding depot):\", global_best_position)\n",
        "print(\"Total Distance:\", global_best_score)"
      ],
      "metadata": {
        "colab": {
          "base_uri": "https://localhost:8080/"
        },
        "id": "gRm_jvTV3olY",
        "outputId": "31818bf2-0801-4cc3-9c63-d62989d7c6c9"
      },
      "execution_count": 8,
      "outputs": [
        {
          "output_type": "stream",
          "name": "stdout",
          "text": [
            "\n",
            "Best Route Found (excluding depot): [4, 3, 5, 2, 1]\n",
            "Total Distance: 229.843033008839\n"
          ]
        }
      ]
    },
    {
      "cell_type": "markdown",
      "source": [
        "Step 7: Plotting the Best Route"
      ],
      "metadata": {
        "id": "Dn5dri8635S5"
      }
    },
    {
      "cell_type": "code",
      "source": [
        "best_route = [0] + global_best_position + [0]\n",
        "x = [customers[i]['x'] for i in best_route]\n",
        "y = [customers[i]['y'] for i in best_route]\n",
        "\n",
        "plt.figure(figsize=(8,6))\n",
        "plt.plot(x, y, marker='o', linestyle='-', color='blue')\n",
        "for i, cid in enumerate(best_route):\n",
        "    plt.text(customers[cid]['x']+1, customers[cid]['y']+1, str(cid), fontsize=12)\n",
        "plt.title(\"Best Route Found by PSO\")\n",
        "plt.grid(True)\n",
        "plt.show()"
      ],
      "metadata": {
        "colab": {
          "base_uri": "https://localhost:8080/",
          "height": 545
        },
        "id": "eKZI22Ts3yHQ",
        "outputId": "06c9633a-fa80-409c-faf3-6af12f247ae6"
      },
      "execution_count": 9,
      "outputs": [
        {
          "output_type": "display_data",
          "data": {
            "text/plain": [
              "<Figure size 800x600 with 1 Axes>"
            ],
            "image/png": "[encoded data removed]"
          },
          "metadata": {}
        }
      ]
    }
  ]
}